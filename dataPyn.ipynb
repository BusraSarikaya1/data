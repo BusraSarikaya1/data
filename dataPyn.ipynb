{
 "cells": [
  {
   "cell_type": "code",
   "execution_count": 58,
   "metadata": {},
   "outputs": [
    {
     "name": "stdout",
     "output_type": "stream",
     "text": [
      "8\n"
     ]
    }
   ],
   "source": [
    "print(3+5)"
   ]
  },
  {
   "cell_type": "code",
   "execution_count": 59,
   "metadata": {},
   "outputs": [
    {
     "name": "stdout",
     "output_type": "stream",
     "text": [
      "h\n"
     ]
    }
   ],
   "source": [
    "print(\"h\")"
   ]
  },
  {
   "cell_type": "markdown",
   "metadata": {},
   "source": [
    "Exercise 1:\n",
    "Write a function that receives a list as parameter and return how many elements it has; if it doesn't have any element return an error."
   ]
  },
  {
   "cell_type": "code",
   "execution_count": 60,
   "metadata": {},
   "outputs": [
    {
     "name": "stdout",
     "output_type": "stream",
     "text": [
      "Bu liste 4 ögeye sahip.\n"
     ]
    }
   ],
   "source": [
    "def oge_sayısı(liste):\n",
    "    if not liste:\n",
    "        raise ValueError\n",
    "    \n",
    "    return len(liste)\n",
    "liste = [1,2,3,4]\n",
    "try:\n",
    "    result = oge_sayısı(liste)\n",
    "    print(f\"Bu liste {result} ögeye sahip.\")\n",
    "except ValueError :\n",
    "    print(\"Error\")\n",
    "\n"
   ]
  },
  {
   "cell_type": "markdown",
   "metadata": {},
   "source": [
    "Exercise 2:Write a function that receives a string as parameter and return the number of each character in it."
   ]
  },
  {
   "cell_type": "code",
   "execution_count": 61,
   "metadata": {},
   "outputs": [
    {
     "name": "stdout",
     "output_type": "stream",
     "text": [
      "'B'karakterinden  1 tane var.\n",
      "'ü'karakterinden  1 tane var.\n",
      "'ş'karakterinden  1 tane var.\n",
      "'r'karakterinden  2 tane var.\n",
      "'a'karakterinden  4 tane var.\n",
      "' 'karakterinden  1 tane var.\n",
      "'S'karakterinden  1 tane var.\n",
      "'ı'karakterinden  1 tane var.\n",
      "'k'karakterinden  1 tane var.\n",
      "'y'karakterinden  1 tane var.\n"
     ]
    }
   ],
   "source": [
    "def karakter_sayısı(input_string):\n",
    "    a = {}\n",
    "    \n",
    "    for b in input_string:\n",
    "        if b in a:\n",
    "            a[b] += 1\n",
    "        else:\n",
    "            a[b] = 1\n",
    "    \n",
    "    return a\n",
    "\n",
    "a = \"Büşra Sarıkaya\"\n",
    "result = karakter_sayısı(a)\n",
    "\n",
    "for karakter, sayı in result.items():\n",
    "    print(f\"'{karakter}'karakterinden  {sayı} tane var.\")\n"
   ]
  }
 ],
 "metadata": {
  "kernelspec": {
   "display_name": "Python 3",
   "language": "python",
   "name": "python3"
  },
  "language_info": {
   "codemirror_mode": {
    "name": "ipython",
    "version": 3
   },
   "file_extension": ".py",
   "mimetype": "text/x-python",
   "name": "python",
   "nbconvert_exporter": "python",
   "pygments_lexer": "ipython3",
   "version": "3.10.11"
  }
 },
 "nbformat": 4,
 "nbformat_minor": 2
}
