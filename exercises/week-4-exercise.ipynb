{
 "cells": [
  {
   "cell_type": "code",
   "execution_count": 1,
   "metadata": {},
   "outputs": [],
   "source": [
    "import pandas as pd\n",
    "import requests\n",
    "from config import x_api_key"
   ]
  },
  {
   "cell_type": "code",
   "execution_count": 9,
   "metadata": {},
   "outputs": [],
   "source": [
    "x_api_key  =  \"live_4d3NDBowQqNxxNqINVsUGDBVAztWAyA2ld0jxsgLsHWoM4UmW1I9RjXvCyh7uk91\" # Add your youtube api key\n",
    "pageToken = \"\"\n",
    "\n",
    "url = \"https://api.thecatapi.com/v1/images/search?limit=\"+x_api_key"
   ]
  },
  {
   "cell_type": "code",
   "execution_count": 10,
   "metadata": {},
   "outputs": [
    {
     "name": "stdout",
     "output_type": "stream",
     "text": [
      "https://api.thecatapi.com/v1/images/search?limit=live_4d3NDBowQqNxxNqINVsUGDBVAztWAyA2ld0jxsgLsHWoM4UmW1I9RjXvCyh7uk91\n"
     ]
    }
   ],
   "source": [
    "print(url)"
   ]
  },
  {
   "cell_type": "code",
   "execution_count": 11,
   "metadata": {},
   "outputs": [],
   "source": [
    "response=requests.get(url).json()"
   ]
  },
  {
   "cell_type": "code",
   "execution_count": 13,
   "metadata": {},
   "outputs": [
    {
     "data": {
      "text/plain": [
       "[{'id': 'LIoOlcalr',\n",
       "  'url': 'https://cdn2.thecatapi.com/images/LIoOlcalr.jpg',\n",
       "  'width': 970,\n",
       "  'height': 908}]"
      ]
     },
     "execution_count": 13,
     "metadata": {},
     "output_type": "execute_result"
    }
   ],
   "source": [
    "response"
   ]
  },
  {
   "cell_type": "code",
   "execution_count": 7,
   "metadata": {},
   "outputs": [
    {
     "name": "stdout",
     "output_type": "stream",
     "text": [
      "          id                                              url  width  height\n",
      "0  J2PmlIizw  https://cdn2.thecatapi.com/images/J2PmlIizw.jpg   1080    1350\n",
      "1  VZ3qFLIe3  https://cdn2.thecatapi.com/images/VZ3qFLIe3.jpg    750     937\n",
      "2  aaxNf4D0H  https://cdn2.thecatapi.com/images/aaxNf4D0H.jpg   1080    1350\n",
      "3  iWyIaja-G  https://cdn2.thecatapi.com/images/iWyIaja-G.jpg   1080     769\n",
      "4  8RsP7Xt3h  https://cdn2.thecatapi.com/images/8RsP7Xt3h.jpg   1024     817\n",
      "5  dN6eoeLjY  https://cdn2.thecatapi.com/images/dN6eoeLjY.jpg   3648    2736\n",
      "6  H_UWbOfra  https://cdn2.thecatapi.com/images/H_UWbOfra.jpg   1200    1200\n",
      "7  bz15V3Kvg  https://cdn2.thecatapi.com/images/bz15V3Kvg.jpg   1440    1080\n",
      "8  NwMUoJYmT  https://cdn2.thecatapi.com/images/NwMUoJYmT.jpg   2160    1440\n",
      "9  sPMOo3Jn2  https://cdn2.thecatapi.com/images/sPMOo3Jn2.jpg    880    1100\n"
     ]
    }
   ],
   "source": [
    "\n",
    "import pandas as pd\n",
    "import requests\n",
    "from config import x_api_key\n",
    "\n",
    "x_api_key = \"live_4d3NDBowQqNxxNqINVsUGDBVAztWAyA2ld0jxsgLsHWoM4UmW1I9RjXvCyh7uk91\"  # Add your youtube api key\n",
    "pageToken = \"\"\n",
    "\n",
    "url = f\"https://api.thecatapi.com/v1/images/search?limit=10&breed_ids=beng&x-api-key={x_api_key}\"\n",
    "\n",
    "# API'ye istek yap\n",
    "response = requests.get(url)\n",
    "\n",
    "# HTTP durum kodunu kontrol et\n",
    "if response.status_code == 200:\n",
    "    try:\n",
    "        # JSON formatına dönüştür\n",
    "        data = response.json()\n",
    "\n",
    "        # DataFrame'e dönüştür\n",
    "        df = pd.DataFrame(data)\n",
    "\n",
    "        # DataFrame'i görüntüle\n",
    "        print(df)\n",
    "    except Exception as e:\n",
    "        print(f\"Hata: JSON'a dönüştürme hatası - {e}\")\n",
    "else:\n",
    "    print(f\"Hata: HTTP durum kodu - {response.status_code}\")\n",
    "    print(response.text)  # Yanıtın tamamını görüntüle"
   ]
  },
  {
   "cell_type": "code",
   "execution_count": 8,
   "metadata": {},
   "outputs": [
    {
     "data": {
      "text/html": [
       "<div>\n",
       "<style scoped>\n",
       "    .dataframe tbody tr th:only-of-type {\n",
       "        vertical-align: middle;\n",
       "    }\n",
       "\n",
       "    .dataframe tbody tr th {\n",
       "        vertical-align: top;\n",
       "    }\n",
       "\n",
       "    .dataframe thead th {\n",
       "        text-align: right;\n",
       "    }\n",
       "</style>\n",
       "<table border=\"1\" class=\"dataframe\">\n",
       "  <thead>\n",
       "    <tr style=\"text-align: right;\">\n",
       "      <th></th>\n",
       "      <th>id</th>\n",
       "      <th>url</th>\n",
       "      <th>width</th>\n",
       "      <th>height</th>\n",
       "    </tr>\n",
       "  </thead>\n",
       "  <tbody>\n",
       "    <tr>\n",
       "      <th>0</th>\n",
       "      <td>J2PmlIizw</td>\n",
       "      <td>https://cdn2.thecatapi.com/images/J2PmlIizw.jpg</td>\n",
       "      <td>1080</td>\n",
       "      <td>1350</td>\n",
       "    </tr>\n",
       "    <tr>\n",
       "      <th>1</th>\n",
       "      <td>VZ3qFLIe3</td>\n",
       "      <td>https://cdn2.thecatapi.com/images/VZ3qFLIe3.jpg</td>\n",
       "      <td>750</td>\n",
       "      <td>937</td>\n",
       "    </tr>\n",
       "    <tr>\n",
       "      <th>2</th>\n",
       "      <td>aaxNf4D0H</td>\n",
       "      <td>https://cdn2.thecatapi.com/images/aaxNf4D0H.jpg</td>\n",
       "      <td>1080</td>\n",
       "      <td>1350</td>\n",
       "    </tr>\n",
       "    <tr>\n",
       "      <th>3</th>\n",
       "      <td>iWyIaja-G</td>\n",
       "      <td>https://cdn2.thecatapi.com/images/iWyIaja-G.jpg</td>\n",
       "      <td>1080</td>\n",
       "      <td>769</td>\n",
       "    </tr>\n",
       "    <tr>\n",
       "      <th>4</th>\n",
       "      <td>8RsP7Xt3h</td>\n",
       "      <td>https://cdn2.thecatapi.com/images/8RsP7Xt3h.jpg</td>\n",
       "      <td>1024</td>\n",
       "      <td>817</td>\n",
       "    </tr>\n",
       "    <tr>\n",
       "      <th>5</th>\n",
       "      <td>dN6eoeLjY</td>\n",
       "      <td>https://cdn2.thecatapi.com/images/dN6eoeLjY.jpg</td>\n",
       "      <td>3648</td>\n",
       "      <td>2736</td>\n",
       "    </tr>\n",
       "    <tr>\n",
       "      <th>6</th>\n",
       "      <td>H_UWbOfra</td>\n",
       "      <td>https://cdn2.thecatapi.com/images/H_UWbOfra.jpg</td>\n",
       "      <td>1200</td>\n",
       "      <td>1200</td>\n",
       "    </tr>\n",
       "    <tr>\n",
       "      <th>7</th>\n",
       "      <td>bz15V3Kvg</td>\n",
       "      <td>https://cdn2.thecatapi.com/images/bz15V3Kvg.jpg</td>\n",
       "      <td>1440</td>\n",
       "      <td>1080</td>\n",
       "    </tr>\n",
       "    <tr>\n",
       "      <th>8</th>\n",
       "      <td>NwMUoJYmT</td>\n",
       "      <td>https://cdn2.thecatapi.com/images/NwMUoJYmT.jpg</td>\n",
       "      <td>2160</td>\n",
       "      <td>1440</td>\n",
       "    </tr>\n",
       "    <tr>\n",
       "      <th>9</th>\n",
       "      <td>sPMOo3Jn2</td>\n",
       "      <td>https://cdn2.thecatapi.com/images/sPMOo3Jn2.jpg</td>\n",
       "      <td>880</td>\n",
       "      <td>1100</td>\n",
       "    </tr>\n",
       "  </tbody>\n",
       "</table>\n",
       "</div>"
      ],
      "text/plain": [
       "          id                                              url  width  height\n",
       "0  J2PmlIizw  https://cdn2.thecatapi.com/images/J2PmlIizw.jpg   1080    1350\n",
       "1  VZ3qFLIe3  https://cdn2.thecatapi.com/images/VZ3qFLIe3.jpg    750     937\n",
       "2  aaxNf4D0H  https://cdn2.thecatapi.com/images/aaxNf4D0H.jpg   1080    1350\n",
       "3  iWyIaja-G  https://cdn2.thecatapi.com/images/iWyIaja-G.jpg   1080     769\n",
       "4  8RsP7Xt3h  https://cdn2.thecatapi.com/images/8RsP7Xt3h.jpg   1024     817\n",
       "5  dN6eoeLjY  https://cdn2.thecatapi.com/images/dN6eoeLjY.jpg   3648    2736\n",
       "6  H_UWbOfra  https://cdn2.thecatapi.com/images/H_UWbOfra.jpg   1200    1200\n",
       "7  bz15V3Kvg  https://cdn2.thecatapi.com/images/bz15V3Kvg.jpg   1440    1080\n",
       "8  NwMUoJYmT  https://cdn2.thecatapi.com/images/NwMUoJYmT.jpg   2160    1440\n",
       "9  sPMOo3Jn2  https://cdn2.thecatapi.com/images/sPMOo3Jn2.jpg    880    1100"
      ]
     },
     "metadata": {},
     "output_type": "display_data"
    }
   ],
   "source": [
    "# JSON formatına dönüştür\n",
    "data = response.json()\n",
    "\n",
    "# DataFrame'e dönüştür\n",
    "df = pd.DataFrame(data)\n",
    "\n",
    "# DataFrame'i tablo olarak göster\n",
    "display(df)"
   ]
  }
 ],
 "metadata": {
  "kernelspec": {
   "display_name": "venv",
   "language": "python",
   "name": "python3"
  },
  "language_info": {
   "codemirror_mode": {
    "name": "ipython",
    "version": 3
   },
   "file_extension": ".py",
   "mimetype": "text/x-python",
   "name": "python",
   "nbconvert_exporter": "python",
   "pygments_lexer": "ipython3",
   "version": "3.10.11"
  }
 },
 "nbformat": 4,
 "nbformat_minor": 2
}
