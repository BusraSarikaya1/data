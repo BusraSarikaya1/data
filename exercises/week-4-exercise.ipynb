{
 "cells": [
  {
   "cell_type": "code",
   "execution_count": 16,
   "metadata": {},
   "outputs": [],
   "source": [
    "import pandas as pd\n",
    "import requests\n",
    "from config import x_api_key"
   ]
  },
  {
   "cell_type": "code",
   "execution_count": 17,
   "metadata": {},
   "outputs": [],
   "source": [
    "x_api_key  =  \"live_4d3NDBowQqNxxNqINVsUGDBVAztWAyA2ld0jxsgLsHWoM4UmW1I9RjXvCyh7uk91\" # Add your youtube api key\n",
    "pageToken = \"\"\n",
    "\n",
    "url = f\"https://api.thecatapi.com/v1/images/search?limit=10&breed_ids=beng&x-api-key={x_api_key}\""
   ]
  },
  {
   "cell_type": "code",
   "execution_count": 18,
   "metadata": {},
   "outputs": [
    {
     "name": "stdout",
     "output_type": "stream",
     "text": [
      "https://api.thecatapi.com/v1/images/search?limit=10&breed_ids=beng&x-api-key=live_4d3NDBowQqNxxNqINVsUGDBVAztWAyA2ld0jxsgLsHWoM4UmW1I9RjXvCyh7uk91\n"
     ]
    }
   ],
   "source": [
    "print(url)"
   ]
  },
  {
   "cell_type": "code",
   "execution_count": 19,
   "metadata": {},
   "outputs": [],
   "source": [
    "response=requests.get(url).json()"
   ]
  },
  {
   "cell_type": "code",
   "execution_count": 20,
   "metadata": {},
   "outputs": [
    {
     "data": {
      "text/plain": [
       "[{'id': 'LSaDk6OjY',\n",
       "  'url': 'https://cdn2.thecatapi.com/images/LSaDk6OjY.jpg',\n",
       "  'width': 1080,\n",
       "  'height': 1080},\n",
       " {'id': 'iWyIaja-G',\n",
       "  'url': 'https://cdn2.thecatapi.com/images/iWyIaja-G.jpg',\n",
       "  'width': 1080,\n",
       "  'height': 769},\n",
       " {'id': 'Rl39SPjDO',\n",
       "  'url': 'https://cdn2.thecatapi.com/images/Rl39SPjDO.png',\n",
       "  'width': 1198,\n",
       "  'height': 1379},\n",
       " {'id': 'byQhFO7iV',\n",
       "  'url': 'https://cdn2.thecatapi.com/images/byQhFO7iV.jpg',\n",
       "  'width': 1795,\n",
       "  'height': 2397},\n",
       " {'id': 'O3btzLlsO',\n",
       "  'url': 'https://cdn2.thecatapi.com/images/O3btzLlsO.png',\n",
       "  'width': 1100,\n",
       "  'height': 739},\n",
       " {'id': 'bz15V3Kvg',\n",
       "  'url': 'https://cdn2.thecatapi.com/images/bz15V3Kvg.jpg',\n",
       "  'width': 1440,\n",
       "  'height': 1080},\n",
       " {'id': 'NwMUoJYmT',\n",
       "  'url': 'https://cdn2.thecatapi.com/images/NwMUoJYmT.jpg',\n",
       "  'width': 2160,\n",
       "  'height': 1440},\n",
       " {'id': 'sPMOo3Jn2',\n",
       "  'url': 'https://cdn2.thecatapi.com/images/sPMOo3Jn2.jpg',\n",
       "  'width': 880,\n",
       "  'height': 1100},\n",
       " {'id': 'ZocD-pQxd',\n",
       "  'url': 'https://cdn2.thecatapi.com/images/ZocD-pQxd.jpg',\n",
       "  'width': 880,\n",
       "  'height': 1100},\n",
       " {'id': '4-5SzDNIL',\n",
       "  'url': 'https://cdn2.thecatapi.com/images/4-5SzDNIL.jpg',\n",
       "  'width': 880,\n",
       "  'height': 1100}]"
      ]
     },
     "execution_count": 20,
     "metadata": {},
     "output_type": "execute_result"
    }
   ],
   "source": [
    "response"
   ]
  },
  {
   "cell_type": "code",
   "execution_count": 22,
   "metadata": {},
   "outputs": [
    {
     "name": "stdout",
     "output_type": "stream",
     "text": [
      "          id                                              url  width  height\n",
      "0  8pCFG7gCV  https://cdn2.thecatapi.com/images/8pCFG7gCV.jpg    750     937\n",
      "1  IFXsxmXLm  https://cdn2.thecatapi.com/images/IFXsxmXLm.jpg    973     973\n",
      "2  8ciqdpaO5  https://cdn2.thecatapi.com/images/8ciqdpaO5.jpg   1080     809\n",
      "3  aaxNf4D0H  https://cdn2.thecatapi.com/images/aaxNf4D0H.jpg   1080    1350\n",
      "4  GAmy2bg8G  https://cdn2.thecatapi.com/images/GAmy2bg8G.jpg    750     750\n",
      "5  8RsP7Xt3h  https://cdn2.thecatapi.com/images/8RsP7Xt3h.jpg   1024     817\n",
      "6  byQhFO7iV  https://cdn2.thecatapi.com/images/byQhFO7iV.jpg   1795    2397\n",
      "7  dN6eoeLjY  https://cdn2.thecatapi.com/images/dN6eoeLjY.jpg   3648    2736\n",
      "8  bz15V3Kvg  https://cdn2.thecatapi.com/images/bz15V3Kvg.jpg   1440    1080\n",
      "9  NwMUoJYmT  https://cdn2.thecatapi.com/images/NwMUoJYmT.jpg   2160    1440\n"
     ]
    }
   ],
   "source": [
    "\n",
    "import pandas as pd\n",
    "import requests\n",
    "from config import x_api_key\n",
    "\n",
    "x_api_key = \"live_4d3NDBowQqNxxNqINVsUGDBVAztWAyA2ld0jxsgLsHWoM4UmW1I9RjXvCyh7uk91\"  # Add your youtube api key\n",
    "pageToken = \"\"\n",
    "\n",
    "url = f\"https://api.thecatapi.com/v1/images/search?limit=10&breed_ids=beng&x-api-key={x_api_key}\"\n",
    "\n",
    "# API'ye istek yap\n",
    "response = requests.get(url)\n",
    "\n",
    "# HTTP durum kodunu kontrol et\n",
    "if response.status_code == 200:\n",
    "    try:\n",
    "        # JSON formatına dönüştür\n",
    "        data = response.json()\n",
    "\n",
    "        # DataFrame'e dönüştür\n",
    "        df = pd.DataFrame(data)\n",
    "\n",
    "        # DataFrame'i görüntüle\n",
    "        print(df)\n",
    "    except Exception as e:\n",
    "        print(f\"Hata: JSON'a dönüştürme hatası - {e}\")\n",
    "else:\n",
    "    print(f\"Hata: HTTP durum kodu - {response.status_code}\")\n",
    "    print(response.text)  # Yanıtın tamamını görüntüle"
   ]
  },
  {
   "cell_type": "code",
   "execution_count": 25,
   "metadata": {},
   "outputs": [
    {
     "data": {
      "text/html": [
       "<div>\n",
       "<style scoped>\n",
       "    .dataframe tbody tr th:only-of-type {\n",
       "        vertical-align: middle;\n",
       "    }\n",
       "\n",
       "    .dataframe tbody tr th {\n",
       "        vertical-align: top;\n",
       "    }\n",
       "\n",
       "    .dataframe thead th {\n",
       "        text-align: right;\n",
       "    }\n",
       "</style>\n",
       "<table border=\"1\" class=\"dataframe\">\n",
       "  <thead>\n",
       "    <tr style=\"text-align: right;\">\n",
       "      <th></th>\n",
       "      <th>id</th>\n",
       "      <th>url</th>\n",
       "      <th>width</th>\n",
       "      <th>height</th>\n",
       "    </tr>\n",
       "  </thead>\n",
       "  <tbody>\n",
       "    <tr>\n",
       "      <th>0</th>\n",
       "      <td>J2PmlIizw</td>\n",
       "      <td>https://cdn2.thecatapi.com/images/J2PmlIizw.jpg</td>\n",
       "      <td>1080</td>\n",
       "      <td>1350</td>\n",
       "    </tr>\n",
       "    <tr>\n",
       "      <th>1</th>\n",
       "      <td>LSaDk6OjY</td>\n",
       "      <td>https://cdn2.thecatapi.com/images/LSaDk6OjY.jpg</td>\n",
       "      <td>1080</td>\n",
       "      <td>1080</td>\n",
       "    </tr>\n",
       "    <tr>\n",
       "      <th>2</th>\n",
       "      <td>IFXsxmXLm</td>\n",
       "      <td>https://cdn2.thecatapi.com/images/IFXsxmXLm.jpg</td>\n",
       "      <td>973</td>\n",
       "      <td>973</td>\n",
       "    </tr>\n",
       "    <tr>\n",
       "      <th>3</th>\n",
       "      <td>8ciqdpaO5</td>\n",
       "      <td>https://cdn2.thecatapi.com/images/8ciqdpaO5.jpg</td>\n",
       "      <td>1080</td>\n",
       "      <td>809</td>\n",
       "    </tr>\n",
       "    <tr>\n",
       "      <th>4</th>\n",
       "      <td>VZ3qFLIe3</td>\n",
       "      <td>https://cdn2.thecatapi.com/images/VZ3qFLIe3.jpg</td>\n",
       "      <td>750</td>\n",
       "      <td>937</td>\n",
       "    </tr>\n",
       "    <tr>\n",
       "      <th>5</th>\n",
       "      <td>aaxNf4D0H</td>\n",
       "      <td>https://cdn2.thecatapi.com/images/aaxNf4D0H.jpg</td>\n",
       "      <td>1080</td>\n",
       "      <td>1350</td>\n",
       "    </tr>\n",
       "    <tr>\n",
       "      <th>6</th>\n",
       "      <td>iWyIaja-G</td>\n",
       "      <td>https://cdn2.thecatapi.com/images/iWyIaja-G.jpg</td>\n",
       "      <td>1080</td>\n",
       "      <td>769</td>\n",
       "    </tr>\n",
       "    <tr>\n",
       "      <th>7</th>\n",
       "      <td>dN6eoeLjY</td>\n",
       "      <td>https://cdn2.thecatapi.com/images/dN6eoeLjY.jpg</td>\n",
       "      <td>3648</td>\n",
       "      <td>2736</td>\n",
       "    </tr>\n",
       "    <tr>\n",
       "      <th>8</th>\n",
       "      <td>sPMOo3Jn2</td>\n",
       "      <td>https://cdn2.thecatapi.com/images/sPMOo3Jn2.jpg</td>\n",
       "      <td>880</td>\n",
       "      <td>1100</td>\n",
       "    </tr>\n",
       "    <tr>\n",
       "      <th>9</th>\n",
       "      <td>ZocD-pQxd</td>\n",
       "      <td>https://cdn2.thecatapi.com/images/ZocD-pQxd.jpg</td>\n",
       "      <td>880</td>\n",
       "      <td>1100</td>\n",
       "    </tr>\n",
       "  </tbody>\n",
       "</table>\n",
       "</div>"
      ],
      "text/plain": [
       "          id                                              url  width  height\n",
       "0  J2PmlIizw  https://cdn2.thecatapi.com/images/J2PmlIizw.jpg   1080    1350\n",
       "1  LSaDk6OjY  https://cdn2.thecatapi.com/images/LSaDk6OjY.jpg   1080    1080\n",
       "2  IFXsxmXLm  https://cdn2.thecatapi.com/images/IFXsxmXLm.jpg    973     973\n",
       "3  8ciqdpaO5  https://cdn2.thecatapi.com/images/8ciqdpaO5.jpg   1080     809\n",
       "4  VZ3qFLIe3  https://cdn2.thecatapi.com/images/VZ3qFLIe3.jpg    750     937\n",
       "5  aaxNf4D0H  https://cdn2.thecatapi.com/images/aaxNf4D0H.jpg   1080    1350\n",
       "6  iWyIaja-G  https://cdn2.thecatapi.com/images/iWyIaja-G.jpg   1080     769\n",
       "7  dN6eoeLjY  https://cdn2.thecatapi.com/images/dN6eoeLjY.jpg   3648    2736\n",
       "8  sPMOo3Jn2  https://cdn2.thecatapi.com/images/sPMOo3Jn2.jpg    880    1100\n",
       "9  ZocD-pQxd  https://cdn2.thecatapi.com/images/ZocD-pQxd.jpg    880    1100"
      ]
     },
     "metadata": {},
     "output_type": "display_data"
    }
   ],
   "source": [
    "# JSON formatına dönüştür\n",
    "data = response.json()\n",
    "\n",
    "# DataFrame'e dönüştür\n",
    "df = pd.DataFrame(data)\n",
    "\n",
    "# DataFrame'i tablo olarak göster\n",
    "display(df)"
   ]
  }
 ],
 "metadata": {
  "kernelspec": {
   "display_name": "venv",
   "language": "python",
   "name": "python3"
  },
  "language_info": {
   "codemirror_mode": {
    "name": "ipython",
    "version": 3
   },
   "file_extension": ".py",
   "mimetype": "text/x-python",
   "name": "python",
   "nbconvert_exporter": "python",
   "pygments_lexer": "ipython3",
   "version": "3.10.11"
  }
 },
 "nbformat": 4,
 "nbformat_minor": 2
}
