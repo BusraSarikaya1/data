{
 "cells": [
  {
   "cell_type": "markdown",
   "metadata": {},
   "source": [
    "Python For Machine Learning"
   ]
  },
  {
   "cell_type": "markdown",
   "metadata": {},
   "source": [
    "1- numpy\n",
    "2- Scipy\n",
    "3- Matplotlib\n",
    "4- Pandas\n",
    "5- scikit -learn"
   ]
  },
  {
   "cell_type": "markdown",
   "metadata": {},
   "source": [
    "## scikit-learn\n",
    "- allows to work with numpy and scipy\n",
    "- good docs\n",
    "- easy to use \n",
    "pre-processing of data,\n",
    "feature selection,\n",
    "feature extraction,\n",
    "train/test splitting,\n",
    "defining the algorithms,\n",
    "fitting models,\n",
    "tuning parameters,\n",
    "prediction,\n",
    "evaluation,\n",
    "and exporting the model.\n"
   ]
  },
  {
   "cell_type": "code",
   "execution_count": 11,
   "metadata": {},
   "outputs": [],
   "source": [
    "import pandas as pd\n",
    "from sklearn import preprocessing "
   ]
  },
  {
   "cell_type": "code",
   "execution_count": 19,
   "metadata": {},
   "outputs": [],
   "source": [
    "import pandas as pd\n",
    "from sklearn.impute import SimpleImputer #Amacım Scikit-learn kütüphanesi Simple Imputer class'ını kullanarak kayıp verileri doldurmak."
   ]
  },
  {
   "cell_type": "code",
   "execution_count": 21,
   "metadata": {},
   "outputs": [],
   "source": [
    "imputer = SimpleImputer(strategy=\"median\") #Buradaki imputer nesnesi, Estimator olarak adlandırılır çünkü datayı öğrenip ve fit() metodu ile birlikte tahminleyebilmektedir"
   ]
  },
  {
   "cell_type": "code",
   "execution_count": 22,
   "metadata": {},
   "outputs": [
    {
     "data": {
      "text/html": [
       "<style>#sk-container-id-1 {color: black;}#sk-container-id-1 pre{padding: 0;}#sk-container-id-1 div.sk-toggleable {background-color: white;}#sk-container-id-1 label.sk-toggleable__label {cursor: pointer;display: block;width: 100%;margin-bottom: 0;padding: 0.3em;box-sizing: border-box;text-align: center;}#sk-container-id-1 label.sk-toggleable__label-arrow:before {content: \"▸\";float: left;margin-right: 0.25em;color: #696969;}#sk-container-id-1 label.sk-toggleable__label-arrow:hover:before {color: black;}#sk-container-id-1 div.sk-estimator:hover label.sk-toggleable__label-arrow:before {color: black;}#sk-container-id-1 div.sk-toggleable__content {max-height: 0;max-width: 0;overflow: hidden;text-align: left;background-color: #f0f8ff;}#sk-container-id-1 div.sk-toggleable__content pre {margin: 0.2em;color: black;border-radius: 0.25em;background-color: #f0f8ff;}#sk-container-id-1 input.sk-toggleable__control:checked~div.sk-toggleable__content {max-height: 200px;max-width: 100%;overflow: auto;}#sk-container-id-1 input.sk-toggleable__control:checked~label.sk-toggleable__label-arrow:before {content: \"▾\";}#sk-container-id-1 div.sk-estimator input.sk-toggleable__control:checked~label.sk-toggleable__label {background-color: #d4ebff;}#sk-container-id-1 div.sk-label input.sk-toggleable__control:checked~label.sk-toggleable__label {background-color: #d4ebff;}#sk-container-id-1 input.sk-hidden--visually {border: 0;clip: rect(1px 1px 1px 1px);clip: rect(1px, 1px, 1px, 1px);height: 1px;margin: -1px;overflow: hidden;padding: 0;position: absolute;width: 1px;}#sk-container-id-1 div.sk-estimator {font-family: monospace;background-color: #f0f8ff;border: 1px dotted black;border-radius: 0.25em;box-sizing: border-box;margin-bottom: 0.5em;}#sk-container-id-1 div.sk-estimator:hover {background-color: #d4ebff;}#sk-container-id-1 div.sk-parallel-item::after {content: \"\";width: 100%;border-bottom: 1px solid gray;flex-grow: 1;}#sk-container-id-1 div.sk-label:hover label.sk-toggleable__label {background-color: #d4ebff;}#sk-container-id-1 div.sk-serial::before {content: \"\";position: absolute;border-left: 1px solid gray;box-sizing: border-box;top: 0;bottom: 0;left: 50%;z-index: 0;}#sk-container-id-1 div.sk-serial {display: flex;flex-direction: column;align-items: center;background-color: white;padding-right: 0.2em;padding-left: 0.2em;position: relative;}#sk-container-id-1 div.sk-item {position: relative;z-index: 1;}#sk-container-id-1 div.sk-parallel {display: flex;align-items: stretch;justify-content: center;background-color: white;position: relative;}#sk-container-id-1 div.sk-item::before, #sk-container-id-1 div.sk-parallel-item::before {content: \"\";position: absolute;border-left: 1px solid gray;box-sizing: border-box;top: 0;bottom: 0;left: 50%;z-index: -1;}#sk-container-id-1 div.sk-parallel-item {display: flex;flex-direction: column;z-index: 1;position: relative;background-color: white;}#sk-container-id-1 div.sk-parallel-item:first-child::after {align-self: flex-end;width: 50%;}#sk-container-id-1 div.sk-parallel-item:last-child::after {align-self: flex-start;width: 50%;}#sk-container-id-1 div.sk-parallel-item:only-child::after {width: 0;}#sk-container-id-1 div.sk-dashed-wrapped {border: 1px dashed gray;margin: 0 0.4em 0.5em 0.4em;box-sizing: border-box;padding-bottom: 0.4em;background-color: white;}#sk-container-id-1 div.sk-label label {font-family: monospace;font-weight: bold;display: inline-block;line-height: 1.2em;}#sk-container-id-1 div.sk-label-container {text-align: center;}#sk-container-id-1 div.sk-container {/* jupyter's `normalize.less` sets `[hidden] { display: none; }` but bootstrap.min.css set `[hidden] { display: none !important; }` so we also need the `!important` here to be able to override the default hidden behavior on the sphinx rendered scikit-learn.org. See: https://github.com/scikit-learn/scikit-learn/issues/21755 */display: inline-block !important;position: relative;}#sk-container-id-1 div.sk-text-repr-fallback {display: none;}</style><div id=\"sk-container-id-1\" class=\"sk-top-container\"><div class=\"sk-text-repr-fallback\"><pre>SimpleImputer(strategy=&#x27;median&#x27;)</pre><b>In a Jupyter environment, please rerun this cell to show the HTML representation or trust the notebook. <br />On GitHub, the HTML representation is unable to render, please try loading this page with nbviewer.org.</b></div><div class=\"sk-container\" hidden><div class=\"sk-item\"><div class=\"sk-estimator sk-toggleable\"><input class=\"sk-toggleable__control sk-hidden--visually\" id=\"sk-estimator-id-1\" type=\"checkbox\" checked><label for=\"sk-estimator-id-1\" class=\"sk-toggleable__label sk-toggleable__label-arrow\">SimpleImputer</label><div class=\"sk-toggleable__content\"><pre>SimpleImputer(strategy=&#x27;median&#x27;)</pre></div></div></div></div></div>"
      ],
      "text/plain": [
       "SimpleImputer(strategy='median')"
      ]
     },
     "execution_count": 22,
     "metadata": {},
     "output_type": "execute_result"
    }
   ],
   "source": [
    "imputer.fit(X)    "
   ]
  },
  {
   "cell_type": "markdown",
   "metadata": {},
   "source": [
    "Imputer nesnesine, training data fit edilir böylece imputer tahminleme yapabilmesi için datayı öğrenir. Estimation(Tahminleme) olayı ise fit() metodu ile gerçekleşmektedir. fit metodu tercih edilen öğrenme algoritmasına bağlı olarak Supervised(Gözetimli) ya da Unsupervised(Gözetimsiz), bir ya da iki parametre alır. Gözetimli öğrenme ise iki parametre (X_train, y_train) alır"
   ]
  },
  {
   "cell_type": "code",
   "execution_count": 23,
   "metadata": {},
   "outputs": [
    {
     "name": "stderr",
     "output_type": "stream",
     "text": [
      "c:\\DATA\\venv\\lib\\site-packages\\sklearn\\impute\\_base.py:558: UserWarning: Skipping features without any observed values: [32]. At least one non-missing value is needed for imputation with strategy='median'.\n",
      "  warnings.warn(\n"
     ]
    }
   ],
   "source": [
    "transformed_X = imputer.transform(X)"
   ]
  },
  {
   "cell_type": "markdown",
   "metadata": {},
   "source": [
    "Fit edilmiş X datasındaki kayıp veriler, aynı zamanda transformer olan imputer nesnesi ile transform() metodu kullanılarak, öğrenilmiş medyan değeri ile dolduruldu."
   ]
  },
  {
   "cell_type": "code",
   "execution_count": 24,
   "metadata": {},
   "outputs": [
    {
     "ename": "AttributeError",
     "evalue": "'numpy.ndarray' object has no attribute 'columns'",
     "output_type": "error",
     "traceback": [
      "\u001b[1;31m---------------------------------------------------------------------------\u001b[0m",
      "\u001b[1;31mAttributeError\u001b[0m                            Traceback (most recent call last)",
      "Cell \u001b[1;32mIn[24], line 1\u001b[0m\n\u001b[1;32m----> 1\u001b[0m df_X \u001b[38;5;241m=\u001b[39m pd\u001b[38;5;241m.\u001b[39mDataFrame(transformed_X,columns\u001b[38;5;241m=\u001b[39m\u001b[43mtransformed_X\u001b[49m\u001b[38;5;241;43m.\u001b[39;49m\u001b[43mcolumns\u001b[49m,index\u001b[38;5;241m=\u001b[39mtransformed_X\u001b[38;5;241m.\u001b[39mindex)\n",
      "\u001b[1;31mAttributeError\u001b[0m: 'numpy.ndarray' object has no attribute 'columns'"
     ]
    }
   ],
   "source": [
    "df_X = pd.DataFrame(transformed_X,columns=transformed_X.columns,index=transformed_X.index)\n",
    "     "
   ]
  },
  {
   "cell_type": "markdown",
   "metadata": {},
   "source": [
    "Supervised and Unsupervised"
   ]
  },
  {
   "cell_type": "code",
   "execution_count": 25,
   "metadata": {},
   "outputs": [],
   "source": [
    "import pandas as pd\n",
    "import numpy as np\n",
    "\n",
    "cancer_data = pd.read_csv(\"cancer_data.csv\")"
   ]
  },
  {
   "cell_type": "code",
   "execution_count": 26,
   "metadata": {},
   "outputs": [
    {
     "data": {
      "text/html": [
       "<div>\n",
       "<style scoped>\n",
       "    .dataframe tbody tr th:only-of-type {\n",
       "        vertical-align: middle;\n",
       "    }\n",
       "\n",
       "    .dataframe tbody tr th {\n",
       "        vertical-align: top;\n",
       "    }\n",
       "\n",
       "    .dataframe thead th {\n",
       "        text-align: right;\n",
       "    }\n",
       "</style>\n",
       "<table border=\"1\" class=\"dataframe\">\n",
       "  <thead>\n",
       "    <tr style=\"text-align: right;\">\n",
       "      <th></th>\n",
       "      <th>id</th>\n",
       "      <th>diagnosis</th>\n",
       "      <th>radius_mean</th>\n",
       "      <th>texture_mean</th>\n",
       "      <th>perimeter_mean</th>\n",
       "      <th>area_mean</th>\n",
       "      <th>smoothness_mean</th>\n",
       "      <th>compactness_mean</th>\n",
       "      <th>concavity_mean</th>\n",
       "      <th>concave points_mean</th>\n",
       "      <th>...</th>\n",
       "      <th>texture_worst</th>\n",
       "      <th>perimeter_worst</th>\n",
       "      <th>area_worst</th>\n",
       "      <th>smoothness_worst</th>\n",
       "      <th>compactness_worst</th>\n",
       "      <th>concavity_worst</th>\n",
       "      <th>concave points_worst</th>\n",
       "      <th>symmetry_worst</th>\n",
       "      <th>fractal_dimension_worst</th>\n",
       "      <th>Unnamed: 32</th>\n",
       "    </tr>\n",
       "  </thead>\n",
       "  <tbody>\n",
       "    <tr>\n",
       "      <th>119</th>\n",
       "      <td>865128</td>\n",
       "      <td>M</td>\n",
       "      <td>17.95</td>\n",
       "      <td>20.01</td>\n",
       "      <td>114.20</td>\n",
       "      <td>982.0</td>\n",
       "      <td>0.08402</td>\n",
       "      <td>0.06722</td>\n",
       "      <td>0.07293</td>\n",
       "      <td>0.05596</td>\n",
       "      <td>...</td>\n",
       "      <td>27.83</td>\n",
       "      <td>129.20</td>\n",
       "      <td>1261.0</td>\n",
       "      <td>0.1072</td>\n",
       "      <td>0.1202</td>\n",
       "      <td>0.2249</td>\n",
       "      <td>0.11850</td>\n",
       "      <td>0.4882</td>\n",
       "      <td>0.06111</td>\n",
       "      <td>NaN</td>\n",
       "    </tr>\n",
       "    <tr>\n",
       "      <th>70</th>\n",
       "      <td>859575</td>\n",
       "      <td>M</td>\n",
       "      <td>18.94</td>\n",
       "      <td>21.31</td>\n",
       "      <td>123.60</td>\n",
       "      <td>1130.0</td>\n",
       "      <td>0.09009</td>\n",
       "      <td>0.10290</td>\n",
       "      <td>0.10800</td>\n",
       "      <td>0.07951</td>\n",
       "      <td>...</td>\n",
       "      <td>26.58</td>\n",
       "      <td>165.90</td>\n",
       "      <td>1866.0</td>\n",
       "      <td>0.1193</td>\n",
       "      <td>0.2336</td>\n",
       "      <td>0.2687</td>\n",
       "      <td>0.17890</td>\n",
       "      <td>0.2551</td>\n",
       "      <td>0.06589</td>\n",
       "      <td>NaN</td>\n",
       "    </tr>\n",
       "    <tr>\n",
       "      <th>347</th>\n",
       "      <td>89869</td>\n",
       "      <td>B</td>\n",
       "      <td>14.76</td>\n",
       "      <td>14.74</td>\n",
       "      <td>94.87</td>\n",
       "      <td>668.7</td>\n",
       "      <td>0.08875</td>\n",
       "      <td>0.07780</td>\n",
       "      <td>0.04608</td>\n",
       "      <td>0.03528</td>\n",
       "      <td>...</td>\n",
       "      <td>17.93</td>\n",
       "      <td>114.20</td>\n",
       "      <td>880.8</td>\n",
       "      <td>0.1220</td>\n",
       "      <td>0.2009</td>\n",
       "      <td>0.2151</td>\n",
       "      <td>0.12510</td>\n",
       "      <td>0.3109</td>\n",
       "      <td>0.08187</td>\n",
       "      <td>NaN</td>\n",
       "    </tr>\n",
       "    <tr>\n",
       "      <th>186</th>\n",
       "      <td>874217</td>\n",
       "      <td>M</td>\n",
       "      <td>18.31</td>\n",
       "      <td>18.58</td>\n",
       "      <td>118.60</td>\n",
       "      <td>1041.0</td>\n",
       "      <td>0.08588</td>\n",
       "      <td>0.08468</td>\n",
       "      <td>0.08169</td>\n",
       "      <td>0.05814</td>\n",
       "      <td>...</td>\n",
       "      <td>26.36</td>\n",
       "      <td>139.20</td>\n",
       "      <td>1410.0</td>\n",
       "      <td>0.1234</td>\n",
       "      <td>0.2445</td>\n",
       "      <td>0.3538</td>\n",
       "      <td>0.15710</td>\n",
       "      <td>0.3206</td>\n",
       "      <td>0.06938</td>\n",
       "      <td>NaN</td>\n",
       "    </tr>\n",
       "    <tr>\n",
       "      <th>84</th>\n",
       "      <td>8612080</td>\n",
       "      <td>B</td>\n",
       "      <td>12.00</td>\n",
       "      <td>15.65</td>\n",
       "      <td>76.95</td>\n",
       "      <td>443.3</td>\n",
       "      <td>0.09723</td>\n",
       "      <td>0.07165</td>\n",
       "      <td>0.04151</td>\n",
       "      <td>0.01863</td>\n",
       "      <td>...</td>\n",
       "      <td>24.90</td>\n",
       "      <td>87.78</td>\n",
       "      <td>567.9</td>\n",
       "      <td>0.1377</td>\n",
       "      <td>0.2003</td>\n",
       "      <td>0.2267</td>\n",
       "      <td>0.07632</td>\n",
       "      <td>0.3379</td>\n",
       "      <td>0.07924</td>\n",
       "      <td>NaN</td>\n",
       "    </tr>\n",
       "  </tbody>\n",
       "</table>\n",
       "<p>5 rows × 33 columns</p>\n",
       "</div>"
      ],
      "text/plain": [
       "          id diagnosis  radius_mean  texture_mean  perimeter_mean  area_mean  \\\n",
       "119   865128         M        17.95         20.01          114.20      982.0   \n",
       "70    859575         M        18.94         21.31          123.60     1130.0   \n",
       "347    89869         B        14.76         14.74           94.87      668.7   \n",
       "186   874217         M        18.31         18.58          118.60     1041.0   \n",
       "84   8612080         B        12.00         15.65           76.95      443.3   \n",
       "\n",
       "     smoothness_mean  compactness_mean  concavity_mean  concave points_mean  \\\n",
       "119          0.08402           0.06722         0.07293              0.05596   \n",
       "70           0.09009           0.10290         0.10800              0.07951   \n",
       "347          0.08875           0.07780         0.04608              0.03528   \n",
       "186          0.08588           0.08468         0.08169              0.05814   \n",
       "84           0.09723           0.07165         0.04151              0.01863   \n",
       "\n",
       "     ...  texture_worst  perimeter_worst  area_worst  smoothness_worst  \\\n",
       "119  ...          27.83           129.20      1261.0            0.1072   \n",
       "70   ...          26.58           165.90      1866.0            0.1193   \n",
       "347  ...          17.93           114.20       880.8            0.1220   \n",
       "186  ...          26.36           139.20      1410.0            0.1234   \n",
       "84   ...          24.90            87.78       567.9            0.1377   \n",
       "\n",
       "     compactness_worst  concavity_worst  concave points_worst  symmetry_worst  \\\n",
       "119             0.1202           0.2249               0.11850          0.4882   \n",
       "70              0.2336           0.2687               0.17890          0.2551   \n",
       "347             0.2009           0.2151               0.12510          0.3109   \n",
       "186             0.2445           0.3538               0.15710          0.3206   \n",
       "84              0.2003           0.2267               0.07632          0.3379   \n",
       "\n",
       "     fractal_dimension_worst  Unnamed: 32  \n",
       "119                  0.06111          NaN  \n",
       "70                   0.06589          NaN  \n",
       "347                  0.08187          NaN  \n",
       "186                  0.06938          NaN  \n",
       "84                   0.07924          NaN  \n",
       "\n",
       "[5 rows x 33 columns]"
      ]
     },
     "execution_count": 26,
     "metadata": {},
     "output_type": "execute_result"
    }
   ],
   "source": [
    "cancer_data.sample(5)"
   ]
  },
  {
   "cell_type": "code",
   "execution_count": 27,
   "metadata": {},
   "outputs": [],
   "source": [
    "cancer_data[\"diagnosis\"] = cancer_data[\"diagnosis\"].astype(\"category\")"
   ]
  },
  {
   "cell_type": "code",
   "execution_count": 29,
   "metadata": {},
   "outputs": [
    {
     "data": {
      "text/plain": [
       "id                            int64\n",
       "diagnosis                  category\n",
       "radius_mean                 float64\n",
       "texture_mean                float64\n",
       "perimeter_mean              float64\n",
       "area_mean                   float64\n",
       "smoothness_mean             float64\n",
       "compactness_mean            float64\n",
       "concavity_mean              float64\n",
       "concave points_mean         float64\n",
       "symmetry_mean               float64\n",
       "fractal_dimension_mean      float64\n",
       "radius_se                   float64\n",
       "texture_se                  float64\n",
       "perimeter_se                float64\n",
       "area_se                     float64\n",
       "smoothness_se               float64\n",
       "compactness_se              float64\n",
       "concavity_se                float64\n",
       "concave points_se           float64\n",
       "symmetry_se                 float64\n",
       "fractal_dimension_se        float64\n",
       "radius_worst                float64\n",
       "texture_worst               float64\n",
       "perimeter_worst             float64\n",
       "area_worst                  float64\n",
       "smoothness_worst            float64\n",
       "compactness_worst           float64\n",
       "concavity_worst             float64\n",
       "concave points_worst        float64\n",
       "symmetry_worst              float64\n",
       "fractal_dimension_worst     float64\n",
       "Unnamed: 32                 float64\n",
       "dtype: object"
      ]
     },
     "execution_count": 29,
     "metadata": {},
     "output_type": "execute_result"
    }
   ],
   "source": [
    "cancer_data.dtypes"
   ]
  },
  {
   "cell_type": "code",
   "execution_count": 30,
   "metadata": {},
   "outputs": [
    {
     "name": "stdout",
     "output_type": "stream",
     "text": [
      "<class 'pandas.core.frame.DataFrame'>\n",
      "RangeIndex: 569 entries, 0 to 568\n",
      "Data columns (total 33 columns):\n",
      " #   Column                   Non-Null Count  Dtype   \n",
      "---  ------                   --------------  -----   \n",
      " 0   id                       569 non-null    int64   \n",
      " 1   diagnosis                569 non-null    category\n",
      " 2   radius_mean              569 non-null    float64 \n",
      " 3   texture_mean             569 non-null    float64 \n",
      " 4   perimeter_mean           569 non-null    float64 \n",
      " 5   area_mean                569 non-null    float64 \n",
      " 6   smoothness_mean          569 non-null    float64 \n",
      " 7   compactness_mean         569 non-null    float64 \n",
      " 8   concavity_mean           569 non-null    float64 \n",
      " 9   concave points_mean      569 non-null    float64 \n",
      " 10  symmetry_mean            569 non-null    float64 \n",
      " 11  fractal_dimension_mean   569 non-null    float64 \n",
      " 12  radius_se                569 non-null    float64 \n",
      " 13  texture_se               569 non-null    float64 \n",
      " 14  perimeter_se             569 non-null    float64 \n",
      " 15  area_se                  569 non-null    float64 \n",
      " 16  smoothness_se            569 non-null    float64 \n",
      " 17  compactness_se           569 non-null    float64 \n",
      " 18  concavity_se             569 non-null    float64 \n",
      " 19  concave points_se        569 non-null    float64 \n",
      " 20  symmetry_se              569 non-null    float64 \n",
      " 21  fractal_dimension_se     569 non-null    float64 \n",
      " 22  radius_worst             569 non-null    float64 \n",
      " 23  texture_worst            569 non-null    float64 \n",
      " 24  perimeter_worst          569 non-null    float64 \n",
      " 25  area_worst               569 non-null    float64 \n",
      " 26  smoothness_worst         569 non-null    float64 \n",
      " 27  compactness_worst        569 non-null    float64 \n",
      " 28  concavity_worst          569 non-null    float64 \n",
      " 29  concave points_worst     569 non-null    float64 \n",
      " 30  symmetry_worst           569 non-null    float64 \n",
      " 31  fractal_dimension_worst  569 non-null    float64 \n",
      " 32  Unnamed: 32              0 non-null      float64 \n",
      "dtypes: category(1), float64(31), int64(1)\n",
      "memory usage: 143.1 KB\n"
     ]
    }
   ],
   "source": [
    "cancer_data.info()"
   ]
  },
  {
   "cell_type": "code",
   "execution_count": 32,
   "metadata": {},
   "outputs": [
    {
     "data": {
      "text/plain": [
       "Index(['radius_mean', 'texture_mean', 'perimeter_mean', 'area_mean',\n",
       "       'smoothness_mean', 'compactness_mean', 'concavity_mean',\n",
       "       'concave points_mean', 'symmetry_mean', 'fractal_dimension_mean',\n",
       "       'radius_se', 'texture_se', 'perimeter_se', 'area_se', 'smoothness_se',\n",
       "       'compactness_se', 'concavity_se', 'concave points_se', 'symmetry_se',\n",
       "       'fractal_dimension_se', 'radius_worst', 'texture_worst',\n",
       "       'perimeter_worst', 'area_worst', 'smoothness_worst',\n",
       "       'compactness_worst', 'concavity_worst', 'concave points_worst',\n",
       "       'symmetry_worst', 'fractal_dimension_worst', 'Unnamed: 32'],\n",
       "      dtype='object')"
      ]
     },
     "execution_count": 32,
     "metadata": {},
     "output_type": "execute_result"
    }
   ],
   "source": [
    "cancer_data.columns[2:]"
   ]
  },
  {
   "cell_type": "markdown",
   "metadata": {},
   "source": [
    "Attributes\n",
    "Features\n",
    "Observation"
   ]
  },
  {
   "cell_type": "markdown",
   "metadata": {},
   "source": [
    "Supervised Learning Techniques:"
   ]
  },
  {
   "cell_type": "markdown",
   "metadata": {},
   "source": [
    "Classification\n",
    "Regression "
   ]
  },
  {
   "cell_type": "markdown",
   "metadata": {},
   "source": [
    "aralarındaki en büyük fark\n",
    "Supervised vs unsupervised"
   ]
  },
  {
   "cell_type": "markdown",
   "metadata": {},
   "source": [
    "Labeled and unlabelled"
   ]
  },
  {
   "cell_type": "markdown",
   "metadata": {},
   "source": [
    "Dimension reduction, Density estimation, Market basket analysis and Clustering are the most widely used unsupervised machine learning techniques."
   ]
  }
 ],
 "metadata": {
  "kernelspec": {
   "display_name": "venv",
   "language": "python",
   "name": "python3"
  },
  "language_info": {
   "codemirror_mode": {
    "name": "ipython",
    "version": 3
   },
   "file_extension": ".py",
   "mimetype": "text/x-python",
   "name": "python",
   "nbconvert_exporter": "python",
   "pygments_lexer": "ipython3",
   "version": "3.10.11"
  }
 },
 "nbformat": 4,
 "nbformat_minor": 2
}
